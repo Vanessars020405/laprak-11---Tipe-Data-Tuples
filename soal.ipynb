{
 "cells": [
  {
   "cell_type": "code",
   "execution_count": 6,
   "metadata": {},
   "outputs": [
    {
     "name": "stdout",
     "output_type": "stream",
     "text": [
      "True\n"
     ]
    }
   ],
   "source": [
    "#Nomor1\n",
    "def semua_anggota(tup):\n",
    "    return len(set(tup)) <= 1\n",
    "\n",
    "tA = (90,90,90,90)\n",
    "print(semua_anggota(tA))"
   ]
  },
  {
   "cell_type": "code",
   "execution_count": 7,
   "metadata": {},
   "outputs": [
    {
     "name": "stdout",
     "output_type": "stream",
     "text": [
      "Data: ('Vanessa Rupina Simangunsong', '71231024', 'Klitren, DI Yogyakarta')\n",
      "NIM: 71231024\n",
      "NAMA: Vanessa Rupina Simangunsong\n",
      "ALAMAT: Klitren, DI Yogyakarta\n",
      "NIM: ('7', '1', '2', '3', '1', '0', '2', '4')\n",
      "NAMA DEPAN: ('a', 'n', 'e', 's', 's', 'a')\n",
      "NAMA TERBALIK: ('Simangunsong', 'Rupina', 'Vanessa')\n"
     ]
    }
   ],
   "source": [
    "#Nomor 2\n",
    "def process_data(data):\n",
    "    nim = (data[1])\n",
    "    nama_lengkap = data[0]\n",
    "    alamat = data[2]\n",
    "    nama_depan =[]\n",
    "    for i in data:\n",
    "        kata = i.split()\n",
    "        nama_depan.append(kata[0])\n",
    "    nama_terbalik = tuple(nama_lengkap.split()[::-1])\n",
    "    \n",
    "    print(\"Data:\", data)\n",
    "\n",
    "    print(\"NIM:\", nim)\n",
    "    print(\"NAMA:\", nama_lengkap)\n",
    "    print(\"ALAMAT:\", alamat)\n",
    "\n",
    "    print(\"NIM:\", tuple(data[1]))\n",
    "    print(\"NAMA DEPAN:\", tuple(nama_depan[0])[1:])\n",
    "    print(\"NAMA TERBALIK:\", nama_terbalik)\n",
    "\n",
    "\n",
    "data_diri = ('Vanessa Rupina Simangunsong', '71231024', 'Klitren, DI Yogyakarta')\n",
    "process_data(data_diri)\n"
   ]
  },
  {
   "cell_type": "code",
   "execution_count": 5,
   "metadata": {},
   "outputs": [
    {
     "name": "stdout",
     "output_type": "stream",
     "text": [
      "04 3\n",
      "06 1\n",
      "07 1\n",
      "09 2\n",
      "10 3\n",
      "11 6\n",
      "14 1\n",
      "15 2\n",
      "16 4\n",
      "17 2\n",
      "18 1\n",
      "19 1\n"
     ]
    }
   ],
   "source": [
    "#Nomor 3\n",
    "def hitung_distribusi_jam(file_name):\n",
    "    try:\n",
    "        with open(file_name) as file:\n",
    "            dis_jam = dict()\n",
    "\n",
    "            for a in file:\n",
    "                if a.startswith('From '):\n",
    "                    kata = a.split()\n",
    "                    jam = kata[5].split(':')[0]\n",
    "                    dis_jam[jam] = dis_jam.get(jam, 0) + 1\n",
    "\n",
    "            for jam in sorted(dis_jam.keys()):\n",
    "                print(jam, dis_jam[jam])\n",
    "\n",
    "    except FileNotFoundError:\n",
    "        print(\"File tidak ditemukan.\")\n",
    "\n",
    "nama_file = input(\"Masukkan nama file: \")\n",
    "hitung_distribusi_jam(nama_file)"
   ]
  }
 ],
 "metadata": {
  "kernelspec": {
   "display_name": "Python 3",
   "language": "python",
   "name": "python3"
  },
  "language_info": {
   "codemirror_mode": {
    "name": "ipython",
    "version": 3
   },
   "file_extension": ".py",
   "mimetype": "text/x-python",
   "name": "python",
   "nbconvert_exporter": "python",
   "pygments_lexer": "ipython3",
   "version": "3.12.0"
  }
 },
 "nbformat": 4,
 "nbformat_minor": 2
}
